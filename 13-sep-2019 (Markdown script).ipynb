{
 "cells": [
  {
   "cell_type": "markdown",
   "metadata": {},
   "source": [
    "# MarkDown Script\n",
    "---\n",
    "---\n",
    "---"
   ]
  },
  {
   "cell_type": "markdown",
   "metadata": {},
   "source": [
    "# Heading 1\n",
    "## Heading 2\n",
    "### Heading3\n",
    "#### Heading 4\n",
    "##### Heading 5\n",
    "###### Heading 6"
   ]
  },
  {
   "cell_type": "markdown",
   "metadata": {},
   "source": [
    "This text is **bold**<br>\n",
    "This text is *italic*<br>\n",
    "This text is _italic_<br>\n",
    "This text is ***bold-italic***<br>\n",
    "This text is **_Bold-Italic_**"
   ]
  },
  {
   "cell_type": "markdown",
   "metadata": {},
   "source": [
    "## Ordered list\n",
    "1.First line\n",
    "2.Second line\n",
    "3.Third line"
   ]
  },
  {
   "cell_type": "markdown",
   "metadata": {},
   "source": [
    "## unordered list\n",
    "- first line\n",
    "- second line"
   ]
  },
  {
   "cell_type": "markdown",
   "metadata": {},
   "source": [
    "This is header file\n",
    "`#include<stdio.h>`\n"
   ]
  },
  {
   "cell_type": "markdown",
   "metadata": {},
   "source": [
    "[image](img.png)"
   ]
  },
  {
   "cell_type": "markdown",
   "metadata": {},
   "source": [
    "![link](download.png)"
   ]
  },
  {
   "cell_type": "markdown",
   "metadata": {},
   "source": [
    "# _Greatest number_\n",
    "Given input a,b,c. write a program to find greatest number"
   ]
  },
  {
   "cell_type": "code",
   "execution_count": 1,
   "metadata": {},
   "outputs": [
    {
     "name": "stdout",
     "output_type": "stream",
     "text": [
      "Enter the a value12\n",
      "Enter the b value2\n",
      "Enter the c value2\n",
      "a is greater \n"
     ]
    }
   ],
   "source": [
    "a = int(input(\"Enter the a value\"))\n",
    "b = int(input(\"Enter the b value\"))\n",
    "c = int(input(\"Enter the c value\"))\n",
    "if (a > b and a > c):\n",
    "    print(\"a is greater \")\n",
    "elif(b > c):\n",
    "    print(\"b is greater\")\n",
    "else:\n",
    "    print(\"c is geratter\")"
   ]
  },
  {
   "cell_type": "code",
   "execution_count": null,
   "metadata": {},
   "outputs": [],
   "source": [
    "#syntax  : for varible in range (start,end-1,increment)"
   ]
  },
  {
   "cell_type": "code",
   "execution_count": null,
   "metadata": {},
   "outputs": [],
   "source": []
  },
  {
   "cell_type": "code",
   "execution_count": 4,
   "metadata": {},
   "outputs": [
    {
     "name": "stdout",
     "output_type": "stream",
     "text": [
      "2  5  8  "
     ]
    }
   ],
   "source": [
    "for i in range(2,10,3):\n",
    "    print(i,end = \"  \")\n",
    "    "
   ]
  },
  {
   "cell_type": "code",
   "execution_count": 5,
   "metadata": {},
   "outputs": [
    {
     "name": "stdout",
     "output_type": "stream",
     "text": [
      "enter the year :1996\n",
      "Leap year\n"
     ]
    }
   ],
   "source": [
    "year  = int(input(\"enter the year :\"))\n",
    "if (year % 400 == 0 or (year % 4 == 0 and year % 100 != 0)):\n",
    "    print(\"Leap year\")\n",
    "else:\n",
    "    print(\"not a leap year\")\n",
    "    "
   ]
  }
 ],
 "metadata": {
  "kernelspec": {
   "display_name": "Python 3",
   "language": "python",
   "name": "python3"
  },
  "language_info": {
   "codemirror_mode": {
    "name": "ipython",
    "version": 3
   },
   "file_extension": ".py",
   "mimetype": "text/x-python",
   "name": "python",
   "nbconvert_exporter": "python",
   "pygments_lexer": "ipython3",
   "version": "3.7.3"
  }
 },
 "nbformat": 4,
 "nbformat_minor": 2
}
