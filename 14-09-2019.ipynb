{
 "cells": [
  {
   "cell_type": "markdown",
   "metadata": {},
   "source": [
    "# 1. Check the given year is leap year or not "
   ]
  },
  {
   "cell_type": "code",
   "execution_count": 2,
   "metadata": {},
   "outputs": [
    {
     "name": "stdout",
     "output_type": "stream",
     "text": [
      "enter the year :2014\n",
      "not a leap year\n"
     ]
    }
   ],
   "source": [
    "year  = int(input(\"Enter the year :\"))\n",
    "if (year % 400 == 0 or (year % 4 == 0 and year % 100 != 0)):\n",
    "    print(\"Leap year\")\n",
    "else:\n",
    "    print(\"Not a leap year\")\n",
    "    "
   ]
  },
  {
   "cell_type": "markdown",
   "metadata": {},
   "source": [
    "# 2.Factor of 1000¶\n"
   ]
  },
  {
   "cell_type": "code",
   "execution_count": 3,
   "metadata": {},
   "outputs": [
    {
     "name": "stdout",
     "output_type": "stream",
     "text": [
      "Enter the number : 3\n",
      "It is not a factor of 1000\n"
     ]
    }
   ],
   "source": [
    "num = int(input(\"Enter the number : \"))\n",
    "i = 1000\n",
    "if i % num == 0:\n",
    "    print(\"It is factor of 1000 \")\n",
    "else:\n",
    "    print(\"It is not a factor of 1000\")"
   ]
  },
  {
   "cell_type": "markdown",
   "metadata": {},
   "source": [
    "# 3.Check the number of digits in a given number"
   ]
  },
  {
   "cell_type": "code",
   "execution_count": 4,
   "metadata": {},
   "outputs": [
    {
     "name": "stdout",
     "output_type": "stream",
     "text": [
      "Enter the number  : 054632463352046\n",
      "number of digits in given number : 14\n"
     ]
    }
   ],
   "source": [
    "num = int(input(\"Enter the number  : \"))\n",
    "count = 0\n",
    "while(num > 0):\n",
    "    num = num // 10\n",
    "    count = count + 1\n",
    "print(\"number of digits in given number :\",count)"
   ]
  },
  {
   "cell_type": "markdown",
   "metadata": {},
   "source": [
    "# 4.Calculate the square root of a given number"
   ]
  },
  {
   "cell_type": "code",
   "execution_count": 7,
   "metadata": {},
   "outputs": [
    {
     "name": "stdout",
     "output_type": "stream",
     "text": [
      "Enter the number  : 5\n",
      "Square root value 2.23606797749979\n"
     ]
    }
   ],
   "source": [
    "num = int(input(\"Enter the number  : \"))\n",
    "squareroot = num ** 0.5\n",
    "print(\"Square root value\",squareroot)"
   ]
  },
  {
   "cell_type": "markdown",
   "metadata": {},
   "source": [
    "# 5.Check if the number exist in a given range"
   ]
  },
  {
   "cell_type": "code",
   "execution_count": 2,
   "metadata": {},
   "outputs": [],
   "source": [
    "# Method 1"
   ]
  },
  {
   "cell_type": "code",
   "execution_count": 4,
   "metadata": {},
   "outputs": [
    {
     "name": "stdout",
     "output_type": "stream",
     "text": [
      "Enter the number :2\n",
      "Enter the lower value2\n",
      "Enter the upper value20\n",
      "2 is in range\n"
     ]
    }
   ],
   "source": [
    "num = int(input(\"Enter the number :\"))\n",
    "lower = int(input(\"Enter the lower value\"))\n",
    "upper = int(input(\"Enter the upper value\"))\n",
    "if lower < upper :\n",
    "    if(num >= lower and num <= upper):\n",
    "        print(num,\"is in range\")\n",
    "    else:\n",
    "        print(num,\"is not in range\")\n",
    "else:\n",
    "    print(\"Error  : lower is greater then upper\")"
   ]
  },
  {
   "cell_type": "markdown",
   "metadata": {},
   "source": [
    "#### Method 2"
   ]
  },
  {
   "cell_type": "code",
   "execution_count": 5,
   "metadata": {},
   "outputs": [
    {
     "name": "stdout",
     "output_type": "stream",
     "text": [
      "Enter the number2\n",
      "Enter the lower value0\n",
      "Enter the upper value20\n",
      "2 is in range\n"
     ]
    }
   ],
   "source": [
    "num = int(input(\"Enter the number\"))\n",
    "lr = int(input(\"Enter the lower value\"))\n",
    "ur = int (input(\"Enter the upper value\"))\n",
    "c = 0\n",
    "for i in range(lr,ur+1):\n",
    "    if i == num:\n",
    "        c =+ 1\n",
    "if c == 1:\n",
    "    print(num,\"is in range\")\n",
    "else:\n",
    "      print(num,\"is not in range\")\n",
    "        "
   ]
  },
  {
   "cell_type": "markdown",
   "metadata": {},
   "source": [
    "##### Method 4"
   ]
  },
  {
   "cell_type": "code",
   "execution_count": 6,
   "metadata": {},
   "outputs": [
    {
     "name": "stdout",
     "output_type": "stream",
     "text": [
      "Enter the number10\n",
      "Enter the lower value20\n",
      "Enter the upper value100\n",
      "not in range\n"
     ]
    }
   ],
   "source": [
    "num = int(input(\"Enter the number\"))\n",
    "lr = int(input(\"Enter the lower value\"))\n",
    "ur = int (input(\"Enter the upper value\"))\n",
    "\n",
    "\n",
    "if num in range (lr,ur+1):\n",
    "    print(\"it is in range\")\n",
    "else:\n",
    "    print(\"not in range\")"
   ]
  },
  {
   "cell_type": "code",
   "execution_count": null,
   "metadata": {},
   "outputs": [],
   "source": []
  }
 ],
 "metadata": {
  "kernelspec": {
   "display_name": "Python 3",
   "language": "python",
   "name": "python3"
  },
  "language_info": {
   "codemirror_mode": {
    "name": "ipython",
    "version": 3
   },
   "file_extension": ".py",
   "mimetype": "text/x-python",
   "name": "python",
   "nbconvert_exporter": "python",
   "pygments_lexer": "ipython3",
   "version": "3.7.3"
  }
 },
 "nbformat": 4,
 "nbformat_minor": 2
}
