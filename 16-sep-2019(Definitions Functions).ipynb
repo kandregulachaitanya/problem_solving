{
 "cells": [
  {
   "cell_type": "markdown",
   "metadata": {},
   "source": [
    "## Definition Functions\n",
    "   - It is denoted with a keyword 'def'"
   ]
  },
  {
   "cell_type": "code",
   "execution_count": 2,
   "metadata": {},
   "outputs": [],
   "source": [
    " def isprime(n):\n",
    "    if n == 2:\n",
    "        return True\n",
    "    elif n == 1:\n",
    "        return False\n",
    "    else:\n",
    "        for i in range(2,n):\n",
    "            if n%i == 0:\n",
    "                return False\n",
    "        return True"
   ]
  },
  {
   "cell_type": "code",
   "execution_count": 24,
   "metadata": {},
   "outputs": [
    {
     "name": "stdout",
     "output_type": "stream",
     "text": [
      "Enter the starting range :1\n",
      "Enter the ending range :50\n",
      "2 3 5 7 11 13 17 19 23 29 31 37 41 43 47 "
     ]
    }
   ],
   "source": [
    "def primerange(start,end):\n",
    "    for i in range(start,end):\n",
    "        if isprime(i) == True:\n",
    "            print(i,end = \" \")\n",
    "start = int(input(\"Enter the starting range :\"))\n",
    "end = int(input(\"Enter the ending range :\"))\n",
    "primerange(start,end)"
   ]
  },
  {
   "cell_type": "markdown",
   "metadata": {},
   "source": [
    "### 1.Function to print all numbers divisible by 6 and not a factor of 100 in a given range(lb, ub) inclusive"
   ]
  },
  {
   "cell_type": "code",
   "execution_count": 43,
   "metadata": {},
   "outputs": [],
   "source": [
    "def divfac(i):\n",
    "    if (i%6==0)and(100//i!=0):\n",
    "        \n",
    "            return True\n",
    "    else:\n",
    "            return False\n",
    "        \n",
    "      \n",
    "        "
   ]
  },
  {
   "cell_type": "code",
   "execution_count": 44,
   "metadata": {},
   "outputs": [
    {
     "name": "stdout",
     "output_type": "stream",
     "text": [
      "Enter the starting range :1\n",
      "Enter the ending range :100\n",
      "6\n",
      "12\n",
      "18\n",
      "24\n",
      "30\n",
      "36\n",
      "42\n",
      "48\n",
      "54\n",
      "60\n",
      "66\n",
      "72\n",
      "78\n",
      "84\n",
      "90\n",
      "96\n"
     ]
    }
   ],
   "source": [
    "ub = int(input(\"Enter the starting range :\"))\n",
    "lu = int(input(\"Enter the ending range :\"))\n",
    "for i in range (ub,lu):\n",
    "    if divfac(i) == True:\n",
    "        print(i)\n",
    "        \n",
    "        "
   ]
  },
  {
   "cell_type": "markdown",
   "metadata": {},
   "source": [
    "### 2.Function to find the average of cubes of all even numbers in a given range(lb, ub) inclusive\n"
   ]
  },
  {
   "cell_type": "code",
   "execution_count": 18,
   "metadata": {
    "scrolled": true
   },
   "outputs": [
    {
     "name": "stdout",
     "output_type": "stream",
     "text": [
      "2\n",
      "3\n",
      "4.0 "
     ]
    }
   ],
   "source": [
    "def cube(lb,ub):\n",
    "    sum = 0\n",
    "    for i in range (lb,ub+1):\n",
    "        if i % 2 == 0:\n",
    "            sum += i**3\n",
    "            avg = sum/i\n",
    "            print(avg,end = \" \")\n",
    "            \n",
    "            \n",
    "lb = int(input())\n",
    "ub = int(input())\n",
    "cube(lb,ub)"
   ]
  },
  {
   "cell_type": "markdown",
   "metadata": {},
   "source": [
    "### 3.Function to generate the list of factors for a given number\n"
   ]
  },
  {
   "cell_type": "code",
   "execution_count": 14,
   "metadata": {},
   "outputs": [
    {
     "name": "stdout",
     "output_type": "stream",
     "text": [
      "Enter the number :10\n",
      "1\n",
      "2\n",
      "5\n",
      "10\n"
     ]
    }
   ],
   "source": [
    "def fact(n):\n",
    "    for i in range (1,n+1):\n",
    "        if n%i == 0:\n",
    "            print(i)\n",
    "         \n",
    "\n",
    "n = int(input(\"Enter the number :\"))\n",
    "fact(n)\n",
    "    "
   ]
  },
  {
   "cell_type": "markdown",
   "metadata": {},
   "source": [
    "### 4.Function to calculate the factorial of a given number\n"
   ]
  },
  {
   "cell_type": "code",
   "execution_count": null,
   "metadata": {},
   "outputs": [],
   "source": []
  },
  {
   "cell_type": "markdown",
   "metadata": {},
   "source": [
    "### 5.Function to check if a given number is Prime\n"
   ]
  },
  {
   "cell_type": "code",
   "execution_count": 12,
   "metadata": {},
   "outputs": [
    {
     "name": "stdout",
     "output_type": "stream",
     "text": [
      "11\n",
      "not prime\n"
     ]
    }
   ],
   "source": [
    "def isprime(n):\n",
    "    if n == 2:\n",
    "        return True\n",
    "    elif n == 1:\n",
    "        return False\n",
    "    else:\n",
    "        for i in range(2,n+1):\n",
    "            if n%i == 0:\n",
    "                return False\n",
    "        return True\n",
    "    \n",
    "\n",
    "    \n",
    "n = int(input())\n",
    "if isprime(n) == True:\n",
    "    print(\"prime\")\n",
    "else:\n",
    "    print(\"not prime\")"
   ]
  },
  {
   "cell_type": "markdown",
   "metadata": {},
   "source": [
    "### 6.Function to calculate the average first N Prime numbers\n"
   ]
  },
  {
   "cell_type": "code",
   "execution_count": 19,
   "metadata": {},
   "outputs": [
    {
     "name": "stdout",
     "output_type": "stream",
     "text": [
      "Average of n prime numbers 48.75\n"
     ]
    }
   ],
   "source": [
    "def avepri(a,b):\n",
    "    sum = 0\n",
    "    count =0\n",
    "    for i in range(a,b+1):\n",
    "        if b%i == 0:\n",
    "            sum += i\n",
    "            count += 1\n",
    "            avg = sum/count\n",
    "    print(\"Average of n prime numbers\",avg)\n",
    "avepri(20,100)"
   ]
  },
  {
   "cell_type": "markdown",
   "metadata": {},
   "source": [
    "### 7.Function to generate all Perfect numbers in a given range\n"
   ]
  },
  {
   "cell_type": "code",
   "execution_count": 20,
   "metadata": {},
   "outputs": [
    {
     "name": "stdout",
     "output_type": "stream",
     "text": [
      "Enter the ending range :9\n",
      "2 3 5 7 "
     ]
    }
   ],
   "source": [
    "def isprime(n):\n",
    "    if n == 2:\n",
    "        return True\n",
    "    elif n == 1:\n",
    "        return False\n",
    "    elif n == 0:\n",
    "        return False\n",
    "    else:\n",
    "        for i in range(2,n):\n",
    "            if n%i == 0:\n",
    "                return False\n",
    "        return True\n",
    "\n",
    "start = 0\n",
    "def primerange(start,end):\n",
    "    for i in range(start,end):\n",
    "        if isprime(i) == True:\n",
    "            print(i,end = \" \")\n",
    "\n",
    "end = int(input(\"Enter the ending range :\"))\n",
    "primerange(start,end)"
   ]
  },
  {
   "cell_type": "code",
   "execution_count": null,
   "metadata": {},
   "outputs": [],
   "source": []
  }
 ],
 "metadata": {
  "kernelspec": {
   "display_name": "Python 3",
   "language": "python",
   "name": "python3"
  },
  "language_info": {
   "codemirror_mode": {
    "name": "ipython",
    "version": 3
   },
   "file_extension": ".py",
   "mimetype": "text/x-python",
   "name": "python",
   "nbconvert_exporter": "python",
   "pygments_lexer": "ipython3",
   "version": "3.7.3"
  }
 },
 "nbformat": 4,
 "nbformat_minor": 2
}
